{
 "cells": [
  {
   "cell_type": "code",
   "execution_count": 1,
   "id": "89bdb9a1",
   "metadata": {},
   "outputs": [],
   "source": [
    "import pandas as pd\n",
    "import yfinance as yf\n",
    "import xgboost as xgboost\n",
    "from sklearn.metrics import mean_squared_error\n",
    "from sklearn.model_selection import train_test_split\n",
    "import datetime\n",
    "import matplotlib.pyplot as pt"
   ]
  },
  {
   "cell_type": "code",
   "execution_count": null,
   "id": "68300486",
   "metadata": {},
   "outputs": [
    {
     "name": "stderr",
     "output_type": "stream",
     "text": [
      "C:\\Users\\sprakash1\\AppData\\Local\\Temp\\ipykernel_11328\\130828476.py:2: FutureWarning: YF.download() has changed argument auto_adjust default to True\n",
      "  df= yf.download(ticker,period=periods)\n",
      "[*********************100%***********************]  1 of 1 completed"
     ]
    },
    {
     "name": "stdout",
     "output_type": "stream",
     "text": [
      "Price            Close        High         Low        Open    Volume\n",
      "Ticker            AAPL        AAPL        AAPL        AAPL      AAPL\n",
      "Date                                                                \n",
      "2024-10-14  230.489807  230.918294  227.799268  227.898908  39882100\n",
      "2024-10-15  233.030869  236.658118  231.556042  232.791704  64751400\n",
      "2024-10-16  230.968124  231.306930  229.034917  230.788762  34082200\n",
      "2024-10-17  231.336823  233.030880  229.712542  232.612338  32993800\n",
      "2024-10-18  234.176834  235.352693  233.190296  235.352693  46431500\n",
      "...                ...         ...         ...         ...       ...\n",
      "2025-06-27  201.080002  203.220001  200.000000  201.889999  73188600\n",
      "2025-06-30  205.169998  207.389999  199.259995  202.009995  91912800\n",
      "2025-07-01  207.820007  210.190002  206.139999  206.669998  78788900\n",
      "2025-07-02  212.440002  213.339996  208.139999  208.910004  67941800\n",
      "2025-07-03  213.550003  214.649994  211.809998  212.149994  34955800\n",
      "\n",
      "[180 rows x 5 columns]\n"
     ]
    },
    {
     "name": "stderr",
     "output_type": "stream",
     "text": [
      "\n"
     ]
    }
   ],
   "source": [
    "def fetch_stock(ticker,periods=\"180d\"):\n",
    "    df= yf.download(ticker,period=periods)\n",
    "    df=df[[\"Close\", \"High\" , \"Low\", \"Open\",\"Volume\"]]\n",
    "    df.dropna(inplace=True)\n",
    "    return df\n",
    "\n",
    "def feature_Add(df,lookback):\n",
    "    for i in range(1,lookback+1):\n",
    "        df[f\"Close_Lag{i}\"] = df[\"Close\"]"
   ]
  },
  {
   "cell_type": "code",
   "execution_count": null,
   "id": "527e2cd5",
   "metadata": {},
   "outputs": [],
   "source": []
  }
 ],
 "metadata": {
  "kernelspec": {
   "display_name": "Python 3",
   "language": "python",
   "name": "python3"
  },
  "language_info": {
   "codemirror_mode": {
    "name": "ipython",
    "version": 3
   },
   "file_extension": ".py",
   "mimetype": "text/x-python",
   "name": "python",
   "nbconvert_exporter": "python",
   "pygments_lexer": "ipython3",
   "version": "3.13.3"
  }
 },
 "nbformat": 4,
 "nbformat_minor": 5
}
